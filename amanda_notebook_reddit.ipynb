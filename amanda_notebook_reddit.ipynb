{
 "cells": [
  {
   "cell_type": "code",
   "execution_count": null,
   "metadata": {
    "collapsed": true
   },
   "outputs": [],
   "source": [
    "import pandas as pd\n",
    "import numpy as np\n",
    "import requests\n",
    "import json\n",
    "import os\n",
    "import praw\n",
    "import seaborn as sns\n",
    "import matplotlib.pyplot as plt\n",
    "from matplotlib import rcParams\n",
    "import time\n",
    "import datetime\n",
    "from dateutil.parser import parse"
   ]
  },
  {
   "cell_type": "code",
   "execution_count": 2,
   "metadata": {
    "collapsed": true
   },
   "outputs": [],
   "source": [
    "file_name = \"/Users/acollier/Documents/api_keys.json\"\n",
    "data = json.load(open(file_name))"
   ]
  },
  {
   "cell_type": "code",
   "execution_count": 3,
   "metadata": {
    "collapsed": true
   },
   "outputs": [],
   "source": [
    "reddit = praw.Reddit(client_id = data['reddit_api_client_id'],\n",
    "                     client_secret = data['reddit_api_client_secret'],\n",
    "                     password = data['reddit_password'],\n",
    "                     user_agent = data['reddit_user_agent'],\n",
    "                     username = data['reddit_username'])"
   ]
  },
  {
   "cell_type": "code",
   "execution_count": 4,
   "metadata": {},
   "outputs": [
    {
     "name": "stdout",
     "output_type": "stream",
     "text": [
      "agraves520\n"
     ]
    }
   ],
   "source": [
    "print(reddit.user.me())"
   ]
  },
  {
   "cell_type": "code",
   "execution_count": 5,
   "metadata": {
    "collapsed": true
   },
   "outputs": [],
   "source": [
    "bitcoin_count = reddit.subreddit('bitcoin').subscribers\n",
    "litecoin_count = reddit.subreddit('litecoin').subscribers\n",
    "nem_count = reddit.subreddit('nem').subscribers\n",
    "stellar_count = reddit.subreddit('stellar').subscribers\n",
    "ripple_count = reddit.subreddit('ripple').subscribers\n",
    "neo_count = reddit.subreddit('neo').subscribers\n",
    "ethereum_count = reddit.subreddit('ethereum').subscribers\n",
    "eos_count = reddit.subreddit('eos').subscribers\n",
    "bitcoincash_count = reddit.subreddit('bitcoincash').subscribers\n",
    "cardano_count = reddit.subreddit('cardano').subscribers\n"
   ]
  },
  {
   "cell_type": "code",
   "execution_count": 6,
   "metadata": {},
   "outputs": [
    {
     "data": {
      "text/html": [
       "<div>\n",
       "<style>\n",
       "    .dataframe thead tr:only-child th {\n",
       "        text-align: right;\n",
       "    }\n",
       "\n",
       "    .dataframe thead th {\n",
       "        text-align: left;\n",
       "    }\n",
       "\n",
       "    .dataframe tbody tr th {\n",
       "        vertical-align: top;\n",
       "    }\n",
       "</style>\n",
       "<table border=\"1\" class=\"dataframe\">\n",
       "  <thead>\n",
       "    <tr style=\"text-align: right;\">\n",
       "      <th></th>\n",
       "      <th>Coin</th>\n",
       "      <th>Subscriber Count</th>\n",
       "    </tr>\n",
       "  </thead>\n",
       "  <tbody>\n",
       "    <tr>\n",
       "      <th>0</th>\n",
       "      <td>Bitcoin</td>\n",
       "      <td>721156</td>\n",
       "    </tr>\n",
       "    <tr>\n",
       "      <th>1</th>\n",
       "      <td>Litecoin</td>\n",
       "      <td>184701</td>\n",
       "    </tr>\n",
       "    <tr>\n",
       "      <th>2</th>\n",
       "      <td>NEM</td>\n",
       "      <td>15692</td>\n",
       "    </tr>\n",
       "    <tr>\n",
       "      <th>3</th>\n",
       "      <td>Stellar</td>\n",
       "      <td>68359</td>\n",
       "    </tr>\n",
       "    <tr>\n",
       "      <th>4</th>\n",
       "      <td>Ripple</td>\n",
       "      <td>173260</td>\n",
       "    </tr>\n",
       "    <tr>\n",
       "      <th>5</th>\n",
       "      <td>NEO</td>\n",
       "      <td>76126</td>\n",
       "    </tr>\n",
       "    <tr>\n",
       "      <th>6</th>\n",
       "      <td>Ethereum</td>\n",
       "      <td>312988</td>\n",
       "    </tr>\n",
       "    <tr>\n",
       "      <th>7</th>\n",
       "      <td>EOS</td>\n",
       "      <td>29887</td>\n",
       "    </tr>\n",
       "    <tr>\n",
       "      <th>8</th>\n",
       "      <td>Bitcoin Cash</td>\n",
       "      <td>29779</td>\n",
       "    </tr>\n",
       "    <tr>\n",
       "      <th>9</th>\n",
       "      <td>Cardano</td>\n",
       "      <td>52326</td>\n",
       "    </tr>\n",
       "  </tbody>\n",
       "</table>\n",
       "</div>"
      ],
      "text/plain": [
       "           Coin  Subscriber Count\n",
       "0       Bitcoin            721156\n",
       "1      Litecoin            184701\n",
       "2           NEM             15692\n",
       "3       Stellar             68359\n",
       "4        Ripple            173260\n",
       "5           NEO             76126\n",
       "6      Ethereum            312988\n",
       "7           EOS             29887\n",
       "8  Bitcoin Cash             29779\n",
       "9       Cardano             52326"
      ]
     },
     "execution_count": 6,
     "metadata": {},
     "output_type": "execute_result"
    }
   ],
   "source": [
    "subscriber_summary = pd.DataFrame([\n",
    "    {\"Coin\": \"Bitcoin\", \"Subscriber Count\":bitcoin_count},\n",
    "    {\"Coin\": \"Litecoin\", \"Subscriber Count\": litecoin_count},\n",
    "    {\"Coin\": \"NEM\", \"Subscriber Count\": nem_count},\n",
    "    {\"Coin\": \"Stellar\", \"Subscriber Count\": stellar_count},\n",
    "    {\"Coin\": \"Ripple\", \"Subscriber Count\": ripple_count},\n",
    "    {\"Coin\": \"NEO\", \"Subscriber Count\": neo_count},\n",
    "    {\"Coin\": \"Ethereum\", \"Subscriber Count\": ethereum_count},\n",
    "    {\"Coin\": \"EOS\", \"Subscriber Count\": eos_count},\n",
    "    {\"Coin\": \"Bitcoin Cash\", \"Subscriber Count\": bitcoincash_count},\n",
    "    {\"Coin\": \"Cardano\", \"Subscriber Count\": cardano_count},\n",
    "    \n",
    "])\n",
    "subscriber_summary"
   ]
  },
  {
   "cell_type": "code",
   "execution_count": 9,
   "metadata": {
    "collapsed": true
   },
   "outputs": [],
   "source": [
    "sns.set_style('darkgrid')\n",
    "\n",
    "today_date = datetime.datetime.now().strftime('%m/%d/%y')\n",
    "\n",
    "coin_barplot = sns.barplot(data=subscriber_summary, x=\"Coin\", y=\"Subscriber Count\", alpha=0.9)\n",
    "#coin_barplot.fig.set_size_inches(8,5)\n",
    "\n",
    "plt.title(\"Subreddit Subscriber Counts by Cryptocurrency (\" + today_date + \")\")\n",
    "plt.xlabel(\"Cryptocurrency\")\n",
    "plt.ylabel(\"Number of Subscribers\")\n",
    "    \n",
    "for p in coin_barplot.axes.patches:\n",
    "    coin_barplot.annotate(\"{:.0f}\".format(p.get_height()) , \n",
    "                (p.get_x() + p.get_width() / 2., p.get_height()), # Placement\n",
    "                ha='center', va='center', fontsize=12, color='black', rotation=0, xytext=(0, 20),\n",
    "                textcoords='offset points')\n"
   ]
  },
  {
   "cell_type": "code",
   "execution_count": 10,
   "metadata": {},
   "outputs": [
    {
     "data": {
      "image/png": "[encoded data removed]",
      "text/plain": [
       "<matplotlib.figure.Figure at 0x1a2129bdb70>"
      ]
     },
     "metadata": {},
     "output_type": "display_data"
    }
   ],
   "source": [
    "rcParams['figure.figsize'] = 15,5\n",
    "\n",
    "plt.show()\n",
    "plt.gcf().clear()"
   ]
  },
  {
   "cell_type": "code",
   "execution_count": null,
   "metadata": {
    "collapsed": true
   },
   "outputs": [],
   "source": []
  },
  {
   "cell_type": "code",
   "execution_count": null,
   "metadata": {
    "collapsed": true
   },
   "outputs": [],
   "source": []
  },
  {
   "cell_type": "code",
   "execution_count": null,
   "metadata": {
    "collapsed": true
   },
   "outputs": [],
   "source": []
  },
  {
   "cell_type": "code",
   "execution_count": null,
   "metadata": {
    "collapsed": true
   },
   "outputs": [],
   "source": []
  },
  {
   "cell_type": "code",
   "execution_count": null,
   "metadata": {
    "collapsed": true
   },
   "outputs": [],
   "source": []
  }
 ],
 "metadata": {
  "kernelspec": {
   "display_name": "Python 3",
   "language": "python",
   "name": "python3"
  },
  "language_info": {
   "codemirror_mode": {
    "name": "ipython",
    "version": 3
   },
   "file_extension": ".py",
   "mimetype": "text/x-python",
   "name": "python",
   "nbconvert_exporter": "python",
   "pygments_lexer": "ipython3",
   "version": "3.6.3"
  }
 },
 "nbformat": 4,
 "nbformat_minor": 2
}
