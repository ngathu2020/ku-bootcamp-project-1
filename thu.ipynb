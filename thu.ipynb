{
 "cells": [
  {
   "cell_type": "code",
   "execution_count": 127,
   "metadata": {
    "collapsed": true
   },
   "outputs": [],
   "source": [
    "import numpy as np\n",
    "import pandas as pd\n",
    "import json\n",
    "import datetime\n",
    "import tweepy\n",
    "import time\n",
    "import seaborn as sns\n",
    "import os\n",
    "import requests as req\n",
    "\n",
    "from vaderSentiment.vaderSentiment import SentimentIntensityAnalyzer\n",
    "analyzer = SentimentIntensityAnalyzer()\n",
    "\n"
   ]
  },
  {
   "cell_type": "code",
   "execution_count": 128,
   "metadata": {},
   "outputs": [],
   "source": [
    "api_dir = os.path.dirname(os.path.dirname(os.path.realpath('keys')))\n",
    "file_name = os.path.join(api_dir + \"//keys\", \"api_keys.json\")\n",
    "data = json.load(open(file_name))\n",
    "\n",
    "gkey = data['google_api_key']\n",
    "consumer_key = data['twitter_consumer_key']\n",
    "consumer_secret = data['twitter_consumer_secret']\n",
    "access_token = data['twitter_access_token']\n",
    "access_token_secret = data['twitter_access_token_secret']\n"
   ]
  },
  {
   "cell_type": "code",
   "execution_count": 129,
   "metadata": {
    "collapsed": true
   },
   "outputs": [],
   "source": [
    "auth = tweepy.OAuthHandler(consumer_key, consumer_secret)\n",
    "auth.set_access_token(access_token, access_token_secret)\n",
    "api = tweepy.API(auth, parser=tweepy.parsers.JSONParser())\n",
    "\n"
   ]
  },
  {
   "cell_type": "code",
   "execution_count": 130,
   "metadata": {},
   "outputs": [
    {
     "name": "stdout",
     "output_type": "stream",
     "text": [
      "[\n",
      "    {\n",
      "        \"24h_volume_usd\": \"7354210000.0\",\n",
      "        \"available_supply\": \"16838087.0\",\n",
      "        \"id\": \"bitcoin\",\n",
      "        \"last_updated\": \"1517463568\",\n",
      "        \"market_cap_usd\": \"171990955853\",\n",
      "        \"max_supply\": \"21000000.0\",\n",
      "        \"name\": \"Bitcoin\",\n",
      "        \"percent_change_1h\": \"0.96\",\n",
      "        \"percent_change_24h\": \"2.02\",\n",
      "        \"percent_change_7d\": \"-11.24\",\n",
      "        \"price_btc\": \"1.0\",\n",
      "        \"price_usd\": \"10214.4\",\n",
      "        \"rank\": \"1\",\n",
      "        \"symbol\": \"BTC\",\n",
      "        \"total_supply\": \"16838087.0\"\n",
      "    }\n",
      "]\n"
     ]
    }
   ],
   "source": [
    "#cryptocurrency \n",
    "coin_url =  'https://api.coinmarketcap.com/v1/ticker/bitcoin/'\n",
    "coin_response = req.get(coin_url).json()\n",
    "print(json.dumps(coin_response, sort_keys=True, indent=4))\n"
   ]
  },
  {
   "cell_type": "code",
   "execution_count": 131,
   "metadata": {},
   "outputs": [
    {
     "name": "stdout",
     "output_type": "stream",
     "text": [
      "2106\n"
     ]
    },
    {
     "data": {
      "text/plain": [
       "2106"
      ]
     },
     "execution_count": 131,
     "metadata": {},
     "output_type": "execute_result"
    }
   ],
   "source": [
    "#crypto compared API\n",
    "compared_url = \"https://www.cryptocompare.com/api/data/coinlist/\"\n",
    "compared_response = req.get(compared_url).json()\n",
    "#print(json.dumps(compared_response[\"Data\"], sort_keys=True, indent=4))\n",
    "\n",
    "count = 0\n",
    "for each in compared_response[\"Data\"]:\n",
    "    count = count + 1\n",
    "    \n",
    "print(count)\n",
    "\n",
    "len(compared_response[\"Data\"])"
   ]
  },
  {
   "cell_type": "code",
   "execution_count": 132,
   "metadata": {
    "collapsed": true
   },
   "outputs": [],
   "source": [
    "#crypto compared API - social stats\n",
    "social_stats_url = \"https://www.cryptocompare.com/api/data/socialstats/?id=\"\n"
   ]
  },
  {
   "cell_type": "code",
   "execution_count": 133,
   "metadata": {},
   "outputs": [],
   "source": [
    "def SetValues():\n",
    "    compared_df.set_value(each, \"Id\", row[\"Id\"])\n",
    "    compared_df.set_value(each, \"Symbol\", row[\"Symbol\"])\n",
    "    compared_df.set_value(each, \"Name\", row[\"Name\"])\n",
    "    compared_df.set_value(each, \"CoinName\", row[\"CoinName\"])\n",
    "    compared_df.set_value(each, \"FullName\", row[\"FullName\"])\n",
    "    compared_df.set_value(each, \"Algorithm\", row[\"Algorithm\"])\n",
    "    compared_df.set_value(each, \"FullyPremined\", row[\"FullyPremined\"])\n",
    "    compared_df.set_value(each, \"ProofType\", row[\"ProofType\"])\n",
    "    compared_df.set_value(each, \"TotalCoinSupply\", row[\"TotalCoinSupply\"])\n",
    "    compared_df.set_value(each, \"TotalCoinsFreeFloat\", row[\"TotalCoinsFreeFloat\"])\n",
    "    \n",
    "\n",
    "def GetSocialStats(coin_id):\n",
    "    url = social_stats_url + coin_id \n",
    "    social_stats_response = req.get(social_stats_url).json()\n",
    "    return social_stats_response\n",
    "    \n",
    "    "
   ]
  },
  {
   "cell_type": "code",
   "execution_count": null,
   "metadata": {},
   "outputs": [],
   "source": [
    "compared_df = pd.DataFrame(columns=[\"Id\", \"Symbol\", \"Name\", \"CoinName\", \"FullName\", \"Algorithm\", \n",
    "                                    \"FullyPremined\",\"ProofType\", \n",
    "                                    \"TotalCoinSupply\", \"TotalCoinsFreeFloat\",\n",
    "                                    \n",
    "                                   ])\n",
    "compared_df.set_index(\"Symbol\")\n",
    "\n",
    "for each in compared_response[\"Data\"]:\n",
    "    row = compared_response[\"Data\"][each]\n",
    "    SetValues()\n",
    "    response = GetSocialStats(row[\"Id\"])\n",
    "    print(response)\n",
    "    \n",
    "compared_df = compared_df.reset_index()\n",
    "compared_df.head()"
   ]
  },
  {
   "cell_type": "code",
   "execution_count": null,
   "metadata": {},
   "outputs": [],
   "source": []
  },
  {
   "cell_type": "code",
   "execution_count": null,
   "metadata": {
    "collapsed": true
   },
   "outputs": [],
   "source": []
  }
 ],
 "metadata": {
  "kernelspec": {
   "display_name": "Python [default]",
   "language": "python",
   "name": "python3"
  },
  "language_info": {
   "codemirror_mode": {
    "name": "ipython",
    "version": 3
   },
   "file_extension": ".py",
   "mimetype": "text/x-python",
   "name": "python",
   "nbconvert_exporter": "python",
   "pygments_lexer": "ipython3",
   "version": "3.6.3"
  }
 },
 "nbformat": 4,
 "nbformat_minor": 2
}
