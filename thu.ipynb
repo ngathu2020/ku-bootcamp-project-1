{
 "cells": [
  {
   "cell_type": "code",
   "execution_count": 1,
   "metadata": {
    "collapsed": true
   },
   "outputs": [],
   "source": [
    "import numpy as np\n",
    "import pandas as pd\n",
    "import json\n",
    "import tweepy\n",
    "import seaborn as sns\n",
    "import os\n",
    "import requests as req\n",
    "import calendar\n",
    "import pytz\n",
    "import time\n",
    "import got3\n",
    "\n",
    "from datetime import datetime, date, timedelta\n",
    "\n",
    "from vaderSentiment.vaderSentiment import SentimentIntensityAnalyzer\n",
    "analyzer = SentimentIntensityAnalyzer()\n",
    "\n"
   ]
  },
  {
   "cell_type": "code",
   "execution_count": 2,
   "metadata": {
    "collapsed": true
   },
   "outputs": [],
   "source": [
    "api_dir = os.path.dirname(os.path.dirname(os.path.realpath('keys')))\n",
    "file_name = os.path.join(api_dir + \"//keys\", \"api_keys.json\")\n",
    "data = json.load(open(file_name))\n",
    "\n",
    "gkey = data['google_api_key']\n",
    "consumer_key = data['twitter_consumer_key']\n",
    "consumer_secret = data['twitter_consumer_secret']\n",
    "access_token = data['twitter_access_token']\n",
    "access_token_secret = data['twitter_access_token_secret']\n"
   ]
  },
  {
   "cell_type": "code",
   "execution_count": 3,
   "metadata": {
    "collapsed": true
   },
   "outputs": [],
   "source": [
    "auth = tweepy.OAuthHandler(consumer_key, consumer_secret)\n",
    "auth.set_access_token(access_token, access_token_secret)\n",
    "api = tweepy.API(auth, parser=tweepy.parsers.JSONParser())\n",
    "\n"
   ]
  },
  {
   "cell_type": "code",
   "execution_count": 4,
   "metadata": {
    "collapsed": true
   },
   "outputs": [],
   "source": [
    "#coin list by symbol in descending order of market cap\n",
    "#bitcoin - ethereum - ripple - bitcoin cash - cardano - litecoin - stella - neo - eos - xem  \n",
    "coin_list = ['BTC', 'ETH', 'XRP', 'BCH', 'ADA', 'LTC', 'XLM', 'NEO', 'EOS', 'XEM']\n",
    "\n"
   ]
  },
  {
   "cell_type": "code",
   "execution_count": 5,
   "metadata": {
    "collapsed": true
   },
   "outputs": [],
   "source": [
    "#URLs\n",
    "social_stats_url = \"https://www.cryptocompare.com/api/data/socialstats/?id=\"\n",
    "\n",
    "coin_list_url = \"https://www.cryptocompare.com/api/data/coinlist/\"\n",
    "\n",
    "coin_historical_url = \"https://min-api.cryptocompare.com/data/pricehistorical?fsym=\"\n",
    "coin_historical_url_second = \"&tsyms=USD&ts=\"\n",
    "\n"
   ]
  },
  {
   "cell_type": "code",
   "execution_count": 6,
   "metadata": {
    "collapsed": true
   },
   "outputs": [],
   "source": [
    "#variables \n",
    "coin_list_response = []\n",
    "\n",
    "coin_data_df = pd.DataFrame(columns=[\"symbol\", \"date\", \"coin_name\", \"coin_price\", \n",
    "                                     \"compound_average\",\n",
    "                                     \"positive_average\", \"neutral_average\", \"negative_average\"\n",
    "                                   ])\n",
    "\n"
   ]
  },
  {
   "cell_type": "code",
   "execution_count": 7,
   "metadata": {
    "collapsed": true
   },
   "outputs": [],
   "source": [
    "#date\n",
    "year = 2018\n",
    "month = 1\n",
    "day = 1\n",
    "\n",
    "#sampling max number of tweets per day per coin\n",
    "max_tweets = 25"
   ]
  },
  {
   "cell_type": "code",
   "execution_count": null,
   "metadata": {
    "collapsed": true
   },
   "outputs": [],
   "source": [
    "def GetCoinList():\n",
    "    response = req.get(coin_list_url).json()\n",
    "\n",
    "    count = 0\n",
    "    for each in response[\"Data\"]:\n",
    "        count = count + 1\n",
    "    \n",
    "    print(count)\n",
    "    return response\n",
    "\n",
    "\n",
    "def GetCoinId(symbol):\n",
    "    for each in coin_list_response[\"Data\"]:\n",
    "        row = coin_list_response[\"Data\"][symbol]\n",
    "        if row[\"Name\"] == symbol:\n",
    "            return int(row[\"Id\"])\n",
    "\n",
    "\n",
    "def GetCoinName(symbol):\n",
    "    for each in coin_list_response[\"Data\"]:\n",
    "        row = coin_list_response[\"Data\"][symbol]\n",
    "        if row[\"Name\"] == symbol:\n",
    "            return row[\"CoinName\"].lower()\n",
    "\n",
    "               \n",
    "def GetHistoricalPrice(symbol, utctime):\n",
    "    #url to get historical price\n",
    "    url = coin_historical_url + symbol + coin_historical_url_second + str(utctime)\n",
    "    #get the historical price\n",
    "    price = req.get(url).json()\n",
    "    return float(price[symbol][\"USD\"])\n",
    "\n",
    "\n",
    "def GetSocialStats(coin_id):\n",
    "    url = social_stats_url + coin_id \n",
    "    return req.get(url).json()\n",
    "\n",
    "\n",
    "def GetUtcTime(year,month,day):\n",
    "    utc = calendar.timegm(datetime(year,month,day).utctimetuple())\n",
    "    return utc\n",
    "\n",
    "    \n",
    "def AnalyzeTweets(coin_name, until_date):\n",
    "   \n",
    "    tweetCriteria = got3.manager.TweetCriteria().setUntil(until_date).setQuerySearch(coin_name).setMaxTweets(max_tweets)\n",
    "\n",
    "    for i in range(max_tweets):\n",
    "        #each tweet\n",
    "        tweet = got3.manager.TweetManager.getTweets(tweetCriteria)[i]      \n",
    "        #run Vader analysis\n",
    "        compound = analyzer.polarity_scores(tweet.text)[\"compound\"]\n",
    "        pos = analyzer.polarity_scores(tweet.text)[\"pos\"]\n",
    "        neu = analyzer.polarity_scores(tweet.text)[\"neu\"]\n",
    "        neg = analyzer.polarity_scores(tweet.text)[\"neg\"]\n",
    "        #add each score to an appropriate array\n",
    "        compound_list.append(compound)\n",
    "        positive_list.append(pos)\n",
    "        negative_list.append(neg)\n",
    "        neutral_list.append(neu)\n",
    "\n",
    "\n",
    "\n"
   ]
  },
  {
   "cell_type": "code",
   "execution_count": null,
   "metadata": {
    "collapsed": true
   },
   "outputs": [],
   "source": []
  },
  {
   "cell_type": "code",
   "execution_count": null,
   "metadata": {},
   "outputs": [
    {
     "name": "stdout",
     "output_type": "stream",
     "text": [
      "2112\n",
      "2018-01-01   BTC   bitcoin\n",
      "2018-01-01   ETH   ethereum\n",
      "2018-01-01   XRP   ripple\n",
      "2018-01-01   BCH   bitcoin cash / bcc\n",
      "2018-01-01   ADA   cardano\n",
      "2018-01-01   LTC   litecoin\n",
      "2018-01-01   XLM   stellar\n"
     ]
    }
   ],
   "source": [
    "#get coin list\n",
    "coin_list_response = GetCoinList()\n",
    "\n",
    "count = 0\n",
    "\n",
    "#build coin data\n",
    "while count < 31:\n",
    "    #get UTC time, one day at a time\n",
    "    utc_time = GetUtcTime(year,month,day)\n",
    "    until_date = date(year,month,day).strftime(\"%Y-%m-%d\")  \n",
    " \n",
    "    #process one coin at a time\n",
    "    for symbol in coin_list:\n",
    "        coin_name = GetCoinName(symbol)\n",
    "        print(until_date,\" \",symbol,\" \",coin_name)\n",
    "        \n",
    "        #calculate Vader scores\n",
    "        compound_list = []\n",
    "        positive_list = []\n",
    "        negative_list = []\n",
    "        neutral_list = []\n",
    "        AnalyzeTweets(coin_name,until_date)\n",
    "        \n",
    "        \n",
    "        row = {\"symbol\": symbol, \n",
    "               \"date\": until_date,\n",
    "               \"coin_name\": coin_name,\n",
    "               \"coin_price\": GetHistoricalPrice(symbol,utc_time),\n",
    "               \"compound_average\": float(np.mean(compound_list)),\n",
    "               \"positive_average\": float(np.mean(positive_list)), \n",
    "               \"neutral_average\": float(np.mean(neutral_list)), \n",
    "               \"negative_average\": float(np.mean(negative_list)) }\n",
    "        \n",
    "        coin_data_df = coin_data_df.append(row, ignore_index=True)   \n",
    "        \n",
    "    count = count + 1\n",
    "    \n",
    "    #get the next date\n",
    "    next_date = date(year,month,day) + timedelta(1)\n",
    "    year = next_date.year\n",
    "    month = next_date.month\n",
    "    day = next_date.day\n",
    "    \n",
    "coin_data_df"
   ]
  },
  {
   "cell_type": "code",
   "execution_count": null,
   "metadata": {
    "collapsed": true
   },
   "outputs": [],
   "source": [
    "file_name = os.path.join(\"resources\", \"coin_tweet_analysis_2018_01.csv\")\n",
    "coin_data_df.to_csv(file_name)\n"
   ]
  },
  {
   "cell_type": "code",
   "execution_count": null,
   "metadata": {},
   "outputs": [],
   "source": []
  },
  {
   "cell_type": "code",
   "execution_count": null,
   "metadata": {
    "collapsed": true
   },
   "outputs": [],
   "source": []
  }
 ],
 "metadata": {
  "kernelspec": {
   "display_name": "Python [default]",
   "language": "python",
   "name": "python3"
  },
  "language_info": {
   "codemirror_mode": {
    "name": "ipython",
    "version": 3
   },
   "file_extension": ".py",
   "mimetype": "text/x-python",
   "name": "python",
   "nbconvert_exporter": "python",
   "pygments_lexer": "ipython3",
   "version": "3.6.3"
  }
 },
 "nbformat": 4,
 "nbformat_minor": 2
}
